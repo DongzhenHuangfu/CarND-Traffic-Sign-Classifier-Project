{
 "cells": [
  {
   "cell_type": "code",
   "execution_count": 1,
   "metadata": {},
   "outputs": [],
   "source": [
    "import pickle\n",
    "import matplotlib.pyplot as plt\n",
    "import numpy as np\n",
    "import random\n",
    "import copy\n",
    "import csv\n",
    "import cv2\n",
    "import tensorflow as tf\n",
    "from tensorflow.contrib.layers import flatten\n",
    "from sklearn.utils import shuffle\n",
    "import os\n",
    "import matplotlib.image as mpimg"
   ]
  },
  {
   "cell_type": "markdown",
   "metadata": {},
   "source": [
    "---\n",
    "## Step 0: Load The Data"
   ]
  },
  {
   "cell_type": "code",
   "execution_count": 2,
   "metadata": {},
   "outputs": [],
   "source": [
    "# Load pickled data\n",
    "# TODO: Fill this in based on where you saved the training and testing data\n",
    "\n",
    "training_file = '../data/training/train.p'\n",
    "validation_file= '../data/validation/valid.p'\n",
    "testing_file = '../data/testing/test.p'\n",
    "\n",
    "with open(training_file, mode='rb') as f:\n",
    "    train = pickle.load(f)\n",
    "with open(validation_file, mode='rb') as f:\n",
    "    valid = pickle.load(f)\n",
    "with open(testing_file, mode='rb') as f:\n",
    "    test = pickle.load(f)\n",
    "    \n",
    "X_train, y_train = train['features'], train['labels']\n",
    "X_valid, y_valid = valid['features'], valid['labels']\n",
    "X_test, y_test = test['features'], test['labels']"
   ]
  },
  {
   "cell_type": "markdown",
   "metadata": {},
   "source": [
    "---\n",
    "\n",
    "## Step 1: Dataset Summary & Exploration\n",
    "\n",
    "The pickled data is a dictionary with 4 key/value pairs:\n",
    "\n",
    "- `'features'` is a 4D array containing raw pixel data of the traffic sign images, (num examples, width, height, channels).\n",
    "- `'labels'` is a 1D array containing the label/class id of the traffic sign. The file `signnames.csv` contains id -> name mappings for each id.\n",
    "- `'sizes'` is a list containing tuples, (width, height) representing the original width and height the image.\n",
    "- `'coords'` is a list containing tuples, (x1, y1, x2, y2) representing coordinates of a bounding box around the sign in the image. **THESE COORDINATES ASSUME THE ORIGINAL IMAGE. THE PICKLED DATA CONTAINS RESIZED VERSIONS (32 by 32) OF THESE IMAGES**\n",
    "\n",
    "Complete the basic data summary below. Use python, numpy and/or pandas methods to calculate the data summary rather than hard coding the results. For example, the [pandas shape method](http://pandas.pydata.org/pandas-docs/stable/generated/pandas.DataFrame.shape.html) might be useful for calculating some of the summary results. "
   ]
  },
  {
   "cell_type": "markdown",
   "metadata": {},
   "source": [
    "### Provide a Basic Summary of the Data Set Using Python, Numpy and/or Pandas"
   ]
  },
  {
   "cell_type": "code",
   "execution_count": 3,
   "metadata": {
    "scrolled": false
   },
   "outputs": [
    {
     "name": "stdout",
     "output_type": "stream",
     "text": [
      "Number of training examples = 34799\n",
      "Number of validation examples = 4410\n",
      "Number of testing examples = 12630\n",
      "Image data shape = 32*32*3\n",
      "Number of classes = 43\n"
     ]
    }
   ],
   "source": [
    "### Replace each question mark with the appropriate value. \n",
    "### Use python, pandas or numpy methods rather than hard coding the results\n",
    "# TODO: Number of training examples\n",
    "n_train = len(X_train)\n",
    "\n",
    "# TODO: Number of validation examples\n",
    "n_validation = len(X_valid)\n",
    "\n",
    "# TODO: Number of testing examples.\n",
    "n_test = len(X_test)\n",
    "\n",
    "# TODO: What's the shape of an traffic sign image?\n",
    "image_shape = str(len(X_train[0])) + '*' + str(len(X_train[0][0])) + '*' + str(len(X_train[0][0][0]))\n",
    "\n",
    "# TODO: How many unique classes/labels there are in the dataset.\n",
    "n_classes = len(set(y_train))\n",
    "\n",
    "print(\"Number of training examples =\", n_train)\n",
    "print(\"Number of validation examples =\", n_validation)\n",
    "print(\"Number of testing examples =\", n_test)\n",
    "print(\"Image data shape =\", image_shape)\n",
    "print(\"Number of classes =\", n_classes)"
   ]
  },
  {
   "cell_type": "markdown",
   "metadata": {},
   "source": [
    "### Include an exploratory visualization of the dataset"
   ]
  },
  {
   "cell_type": "markdown",
   "metadata": {},
   "source": [
    "Visualize the German Traffic Signs Dataset using the pickled file(s). This is open ended, suggestions include: plotting traffic sign images, plotting the count of each sign, etc. \n",
    "\n",
    "The [Matplotlib](http://matplotlib.org/) [examples](http://matplotlib.org/examples/index.html) and [gallery](http://matplotlib.org/gallery.html) pages are a great resource for doing visualizations in Python.\n",
    "\n",
    "**NOTE:** It's recommended you start with something simple first. If you wish to do more, come back to it after you've completed the rest of the sections. It can be interesting to look at the distribution of classes in the training, validation and test set. Is the distribution the same? Are there more examples of some classes than others?"
   ]
  },
  {
   "cell_type": "code",
   "execution_count": null,
   "metadata": {
    "collapsed": true
   },
   "outputs": [],
   "source": [
    "### Data exploration visualization code goes here.\n",
    "### Feel free to use as many code cells as needed.\n",
    "\n",
    "# Visualizations will be shown in the notebook.\n",
    "%matplotlib inline\n",
    "\n",
    "index = random.randint(0,len(X_train))\n",
    "image = X_train[index].squeeze()\n",
    "\n",
    "plt.figure(figsize=(1,1))\n",
    "plt.imshow(image)\n",
    "print(y_train[index])"
   ]
  },
  {
   "cell_type": "code",
   "execution_count": null,
   "metadata": {
    "collapsed": true,
    "scrolled": false
   },
   "outputs": [],
   "source": [
    "### show the data in picture\n",
    "def datacount(data):\n",
    "    number = []\n",
    "    count = copy.deepcopy(data)\n",
    "    count.sort()\n",
    "    count = list(count)\n",
    "    for i in range(42):\n",
    "        a = count.index(i+1)-count.index(i)\n",
    "        number.append(a)\n",
    "        \n",
    "    a = len(count)-count.index(42)\n",
    "    number.append(a)\n",
    "    return number\n",
    "\n",
    "signs = np.arange(43)\n",
    "plt.figure(figsize=(15,15))\n",
    "percent_train = np.divide(datacount(y_train),len(y_train))\n",
    "percent_valid = np.divide(datacount(y_valid),len(y_valid))\n",
    "percent_test = np.divide(datacount(y_test),len(y_test))\n",
    "plt.bar(signs-0.25, percent_train, width = 0.25, fc = 'r', edgecolor = 'white', label='train', lw=1)\n",
    "plt.bar(signs, percent_valid, width = 0.25, fc = 'g', edgecolor = 'white', label='validation', lw=1)\n",
    "plt.bar(signs+0.25, percent_test, width = 0.25, fc = 'b', edgecolor = 'white', label='test', lw=1)\n",
    "plt.legend(loc=\"upper left\")\n",
    "# plt.savefig('./examples/data_bar.jpg')\n",
    "plt.show()"
   ]
  },
  {
   "cell_type": "code",
   "execution_count": null,
   "metadata": {
    "collapsed": true
   },
   "outputs": [],
   "source": [
    "### show the data in table\n",
    "\n",
    "signames = []\n",
    "\n",
    "with open('../signnames.csv','r') as csvfile:\n",
    "    reader = csv.reader(csvfile)\n",
    "    rows= [row for row in reader]\n",
    "for i in range(1,len(rows)):\n",
    "    signames.append(rows[i][1])\n",
    "\n",
    "print(\"{0:<7}\".format(\"ClassID\"),\"{0:<55}\".format(\"SignName\"),\n",
    "      \"{0:10}\".format(\"    Training \"),\"{0:10}\".format(\" Validation\"), \"{0:10}\".format(\"    Test\"))\n",
    "for j in range(len(signames)):\n",
    "    print(\"{0:<7}\".format(signs[j]),'{0:<55}'.format(signames[j]),\n",
    "      \"{0:10.2f}%\".format(percent_train[j]*100 ),\"{0:10.2f}%\".format(percent_valid[j]*100 ),\n",
    "      \"{0:10.2f}%\".format(percent_test[j]*100 ))"
   ]
  },
  {
   "cell_type": "code",
   "execution_count": null,
   "metadata": {
    "collapsed": true
   },
   "outputs": [],
   "source": [
    "### visualize all the examples\n",
    "\n",
    "fig = plt.figure(figsize=(20,20))\n",
    "\n",
    "for i in range(43):\n",
    "    y = list(y_test)\n",
    "    index = y.index(i)\n",
    "    fig.add_subplot(5,10,i+1)\n",
    "    fig.add_subplot(5,10,i+1).set_title(str(i))\n",
    "    plt.imshow(X_test[index].squeeze())"
   ]
  },
  {
   "cell_type": "markdown",
   "metadata": {},
   "source": [
    "----\n",
    "\n",
    "## Step 2: Design and Test a Model Architecture\n",
    "\n",
    "Design and implement a deep learning model that learns to recognize traffic signs. Train and test your model on the [German Traffic Sign Dataset](http://benchmark.ini.rub.de/?section=gtsrb&subsection=dataset).\n",
    "\n",
    "The LeNet-5 implementation shown in the [classroom](https://classroom.udacity.com/nanodegrees/nd013/parts/fbf77062-5703-404e-b60c-95b78b2f3f9e/modules/6df7ae49-c61c-4bb2-a23e-6527e69209ec/lessons/601ae704-1035-4287-8b11-e2c2716217ad/concepts/d4aca031-508f-4e0b-b493-e7b706120f81) at the end of the CNN lesson is a solid starting point. You'll have to change the number of classes and possibly the preprocessing, but aside from that it's plug and play! \n",
    "\n",
    "With the LeNet-5 solution from the lecture, you should expect a validation set accuracy of about 0.89. To meet specifications, the validation set accuracy will need to be at least 0.93. It is possible to get an even higher accuracy, but 0.93 is the minimum for a successful project submission. \n",
    "\n",
    "There are various aspects to consider when thinking about this problem:\n",
    "\n",
    "- Neural network architecture (is the network over or underfitting?)\n",
    "- Play around preprocessing techniques (normalization, rgb to grayscale, etc)\n",
    "- Number of examples per label (some have more than others).\n",
    "- Generate fake data.\n",
    "\n",
    "Here is an example of a [published baseline model on this problem](http://yann.lecun.com/exdb/publis/pdf/sermanet-ijcnn-11.pdf). It's not required to be familiar with the approach used in the paper but, it's good practice to try to read papers like these."
   ]
  },
  {
   "cell_type": "markdown",
   "metadata": {},
   "source": [
    "### Pre-process the Data Set (normalization, grayscale, etc.)"
   ]
  },
  {
   "cell_type": "markdown",
   "metadata": {},
   "source": [
    "Minimally, the image data should be normalized so that the data has mean zero and equal variance. For image data, `(pixel - 128)/ 128` is a quick way to approximately normalize the data and can be used in this project. \n",
    "\n",
    "Other pre-processing steps are optional. You can try different techniques to see if it improves performance. \n",
    "\n",
    "Use the code cell (or multiple code cells, if necessary) to implement the first step of your project."
   ]
  },
  {
   "cell_type": "code",
   "execution_count": 3,
   "metadata": {},
   "outputs": [],
   "source": [
    "## I didn't choose to grayscale the picture cause I think the color is also an important clue \n",
    "## for classification(speed limit, end of speed limit).\n",
    "\n",
    "def grayscale(imgset):\n",
    "    \n",
    "    imgset = imgset*np.array([0.299, 0.587, 0.114])\n",
    "    return np.sum(imgset, axis=3, keepdims=True)\n",
    "\n",
    "# X_train = grayscale(X_train)\n",
    "# X_valid = grayscale(X_valid)\n",
    "# X_test = grayscale(X_test)"
   ]
  },
  {
   "cell_type": "code",
   "execution_count": 4,
   "metadata": {},
   "outputs": [],
   "source": [
    "def resize_image(imgset):\n",
    "    ret = []\n",
    "    for i in range(len(imgset)):\n",
    "        for_save = (imgset[i] - 128.0)/128.0\n",
    "        ret.append(cv2.resize(for_save,(227,227)))\n",
    "    return np.array(ret)"
   ]
  },
  {
   "cell_type": "code",
   "execution_count": 5,
   "metadata": {},
   "outputs": [
    {
     "ename": "MemoryError",
     "evalue": "",
     "output_type": "error",
     "traceback": [
      "\u001b[1;31m---------------------------------------------------------------------------\u001b[0m",
      "\u001b[1;31mMemoryError\u001b[0m                               Traceback (most recent call last)",
      "\u001b[1;32m<ipython-input-5-ffeafe128d6b>\u001b[0m in \u001b[0;36m<module>\u001b[1;34m()\u001b[0m\n\u001b[1;32m----> 1\u001b[1;33m \u001b[0mx_train\u001b[0m \u001b[1;33m=\u001b[0m \u001b[0mresize_image\u001b[0m\u001b[1;33m(\u001b[0m\u001b[0mX_train\u001b[0m\u001b[1;33m)\u001b[0m\u001b[1;33m\u001b[0m\u001b[0m\n\u001b[0m",
      "\u001b[1;32m<ipython-input-4-509258b854b5>\u001b[0m in \u001b[0;36mresize_image\u001b[1;34m(imgset)\u001b[0m\n\u001b[0;32m      4\u001b[0m         \u001b[0mfor_save\u001b[0m \u001b[1;33m=\u001b[0m \u001b[1;33m(\u001b[0m\u001b[0mimgset\u001b[0m\u001b[1;33m[\u001b[0m\u001b[0mi\u001b[0m\u001b[1;33m]\u001b[0m \u001b[1;33m-\u001b[0m \u001b[1;36m128.0\u001b[0m\u001b[1;33m)\u001b[0m\u001b[1;33m/\u001b[0m\u001b[1;36m128.0\u001b[0m\u001b[1;33m\u001b[0m\u001b[0m\n\u001b[0;32m      5\u001b[0m         \u001b[0mret\u001b[0m\u001b[1;33m.\u001b[0m\u001b[0mappend\u001b[0m\u001b[1;33m(\u001b[0m\u001b[0mcv2\u001b[0m\u001b[1;33m.\u001b[0m\u001b[0mresize\u001b[0m\u001b[1;33m(\u001b[0m\u001b[0mfor_save\u001b[0m\u001b[1;33m,\u001b[0m\u001b[1;33m(\u001b[0m\u001b[1;36m227\u001b[0m\u001b[1;33m,\u001b[0m\u001b[1;36m227\u001b[0m\u001b[1;33m)\u001b[0m\u001b[1;33m)\u001b[0m\u001b[1;33m)\u001b[0m\u001b[1;33m\u001b[0m\u001b[0m\n\u001b[1;32m----> 6\u001b[1;33m     \u001b[1;32mreturn\u001b[0m \u001b[0mnp\u001b[0m\u001b[1;33m.\u001b[0m\u001b[0marray\u001b[0m\u001b[1;33m(\u001b[0m\u001b[0mret\u001b[0m\u001b[1;33m)\u001b[0m\u001b[1;33m\u001b[0m\u001b[0m\n\u001b[0m",
      "\u001b[1;31mMemoryError\u001b[0m: "
     ]
    }
   ],
   "source": [
    "x_train = resize_image(X_train)"
   ]
  },
  {
   "cell_type": "code",
   "execution_count": 6,
   "metadata": {},
   "outputs": [],
   "source": [
    "X_valid = resize_image(X_valid)"
   ]
  },
  {
   "cell_type": "code",
   "execution_count": null,
   "metadata": {
    "collapsed": true
   },
   "outputs": [],
   "source": [
    "X_test = resize_image(X_test)"
   ]
  },
  {
   "cell_type": "code",
   "execution_count": null,
   "metadata": {
    "collapsed": true,
    "scrolled": false
   },
   "outputs": [],
   "source": [
    "### Preprocess the data here. It is required to normalize the data. Other preprocessing steps could include \n",
    "### converting to grayscale, etc.\n",
    "### Feel free to use as many code cells as needed.\n",
    "\n",
    "# normalized the pixels\n",
    "# X_train = (X_train-128.0)/128.0\n",
    "# X_valid = (X_valid-128.0)/128.0\n",
    "# X_test = (X_test-128.0)/128.0"
   ]
  },
  {
   "cell_type": "markdown",
   "metadata": {},
   "source": [
    "### Model Architecture"
   ]
  },
  {
   "cell_type": "code",
   "execution_count": null,
   "metadata": {
    "collapsed": true
   },
   "outputs": [],
   "source": [
    "# my AlexNet structure\n",
    "\n",
    "x = tf.placeholder(tf.float32,(None,227,227,3))\n",
    "\n",
    "# Arguments used for tf.truncated_normal, randomly defines variables for the weights and biases for each layer\n",
    "mu = 0\n",
    "sigma = 0.1\n",
    "keep_prob = tf.placeholder(tf.float32,(3))\n",
    "\n",
    "# Layer 1: Convolutional. Input = 227x227x3. Output = 55x55x96.\n",
    "conv1_W = tf.Variable(tf.truncated_normal(shape=(11, 11, 3, 96), mean = mu, stddev = sigma))\n",
    "conv1_b = tf.Variable(tf.zeros(96))\n",
    "conv1_in   = tf.nn.conv2d(x, conv1_W, strides=[1, 4, 4, 1], padding='VALID') + conv1_b\n",
    "\n",
    "# Activation.\n",
    "layer1 = tf.nn.relu(conv1_in)\n",
    "\n",
    "# Pooling. Input = 55x55x96. Output = 27x27x96.\n",
    "conv1 = tf.nn.max_pool(layer1, ksize=[1, 3, 3, 1], strides=[1, 2, 2, 1], padding='VALID')\n",
    "\n",
    "# Layer 2: Convolutional. Input = 27x27x96. Output = 27x27x256.\n",
    "conv2_W = tf.Variable(tf.truncated_normal(shape=(5, 5, 96, 256), mean = mu, stddev = sigma))\n",
    "conv2_b = tf.Variable(tf.zeros(256))\n",
    "conv2_in   = tf.nn.conv2d(conv1, conv2_W, strides=[1, 1, 1, 1], padding='SAME') + conv2_b\n",
    "\n",
    "# Activation.\n",
    "layer2 = tf.nn.relu(conv2_in)\n",
    "\n",
    "# Pooling. Input = 27x27x256. Output = 13x13x384.\n",
    "conv2 = tf.nn.max_pool(layer2, ksize=[1, 3, 3, 1], strides=[1, 2, 2, 1], padding='VALID')\n",
    "\n",
    "# Layer 3: Convolutional. Input: 13x13x256. Output: 13x13x96\n",
    "conv3_w = tf.Variable(tf.truncated_normal(shape=(3, 3, 256, 384), mean = mu, stddev = sigma))\n",
    "conv3_b = tf.Variable(tf.zeros(384))\n",
    "conv3_in = tf.nn.conv2d(conv2, conv3_w, strides=[1, 1, 1, 1], padding = \"SAME\") + conv3_b\n",
    "\n",
    "# Activation.\n",
    "layer3 = tf.nn.relu(conv3_in)\n",
    "\n",
    "# Layer 4: Convolutional. Input: 13x13x384. Output: 13x13x384\n",
    "conv4_w = tf.Variable(tf.truncated_normal(shape=(3, 3, 384, 384), mean = mu, stddev = sigma))\n",
    "conv4_b = tf.Variable(tf.zeros(384))\n",
    "conv4_in = tf.nn.conv2d(layer3, conv4_w, strides=[1, 1, 1, 1], padding = \"SAME\") + conv4_b\n",
    "\n",
    "# Activation.\n",
    "layer4 = tf.nn.relu(conv4_in)\n",
    "\n",
    "# Layer 5: Convolutional. Input: 13x13x384. Output: 13x13x256\n",
    "conv5_w = tf.Variable(tf.truncated_normal(shape=(3, 3, 384, 256), mean = mu, stddev = sigma))\n",
    "conv5_b = tf.Variable(tf.zeros(256))\n",
    "conv5_in = tf.nn.conv2d(layer4, conv5_w, strides=[1, 1, 1, 1], padding = \"SAME\") + conv5_b\n",
    "\n",
    "# Activation.\n",
    "layer5 = tf.nn.relu(conv5_in)\n",
    "\n",
    "# Pooling: Input = 13x13x256. Output = 6x6x256\n",
    "conv5 = tf.nn.max_pool(layer5, ksize=[1, 3, 3, 1], strides=[1, 2, 2, 1], padding = \"VALID\")\n",
    "\n",
    "# Layer 6: Flatten. Input = 6x6x256. Output = 9216.\n",
    "fc0   = flatten(conv5)\n",
    "\n",
    "# Layer 7: Full connection layer. Input = 9216. Output = 4096.\n",
    "fc1_w = tf.Variable(tf.truncated_normal(shape=(9216, 4096), mean = mu, stddev = sigma))\n",
    "fc1_b = tf.Variable(tf.zeros(4096))\n",
    "fc1_in = tf.matmul(fc0, fc1_w) + fc1_b\n",
    "\n",
    "# Activation.\n",
    "layer7 = tf.nn.relu(fc1_in)\n",
    "\n",
    "# Dropout\n",
    "fc1 = tf.nn.dropout(layer7, keep_prob[0])\n",
    "\n",
    "# Layer 8: Full connection layer. Input = 4096. Output = 1000.\n",
    "fc2_w = tf.Variable(tf.truncated_normal(shape=(4096, 1000), mean = mu, stddev = sigma))\n",
    "fc2_b = tf.Variable(tf.zeros(1000))\n",
    "fc2_in = tf.matmul(fc1, fc2_w) + fc2_b\n",
    "\n",
    "# Activation.\n",
    "layer8 = tf.nn.relu(fc2_in)\n",
    "\n",
    "# Dropout\n",
    "fc2 = tf.nn.dropout(layer8, keep_prob[1])\n",
    "\n",
    "# Layer 9: Full connection layer. Input = 1000. Output = 200.\n",
    "fc3_w = tf.Variable(tf.truncated_normal(shape=(1000, 200), mean = mu, stddev = sigma))\n",
    "fc3_b = tf.Variable(tf.zeros(200))\n",
    "fc3_in = tf.matmul(fc2, fc3_w) + fc3_b\n",
    "\n",
    "# Activation.\n",
    "layer9 = tf.nn.relu(fc3_in)\n",
    "\n",
    "# Dropout\n",
    "fc3 = tf.nn.dropout(layer9, keep_prob[2])\n",
    "\n",
    "# Layer 10: Full connection layer. Input = 200. Output = 43.\n",
    "fc4_w = tf.Variable(tf.truncated_normal(shape=(200, 43), mean = mu, stddev = sigma))\n",
    "fc4_b = tf.Variable(tf.zeros(43))\n",
    "logits = tf.matmul(fc3, fc4_w) + fc4_b\n"
   ]
  },
  {
   "cell_type": "code",
   "execution_count": null,
   "metadata": {
    "collapsed": true
   },
   "outputs": [],
   "source": [
    "# tensorflow parameters\n",
    "epoches = 50\n",
    "batch_size = 128"
   ]
  },
  {
   "cell_type": "markdown",
   "metadata": {},
   "source": [
    "### Train, Validate and Test the Model"
   ]
  },
  {
   "cell_type": "markdown",
   "metadata": {},
   "source": [
    "A validation set can be used to assess how well the model is performing. A low accuracy on the training and validation\n",
    "sets imply underfitting. A high accuracy on the training set but low accuracy on the validation set implies overfitting."
   ]
  },
  {
   "cell_type": "code",
   "execution_count": null,
   "metadata": {
    "collapsed": true
   },
   "outputs": [],
   "source": [
    "### Calculate and report the accuracy on the training and validation set.\n",
    "### Once a final model architecture is selected, \n",
    "### the accuracy on the test set should be calculated and reported as well."
   ]
  },
  {
   "cell_type": "code",
   "execution_count": null,
   "metadata": {
    "collapsed": true
   },
   "outputs": [],
   "source": [
    "## Parameters operation\n",
    "\n",
    "y = tf.placeholder(tf.int32,(None))\n",
    "one_hot_y = tf.one_hot(y,43)\n",
    "\n",
    "learning_rate = 0.1\n",
    "\n",
    "cross_entropy = tf.nn.softmax_cross_entropy_with_logits(labels = one_hot_y, logits = logits)\n",
    "loss_operation = tf.reduce_mean(cross_entropy)\n",
    "optimizer = tf.train.AdamOptimizer(learning_rate = learning_rate)\n",
    "training_operation = optimizer.minimize(loss_operation)\n",
    "\n",
    "saver = tf.train.Saver()"
   ]
  },
  {
   "cell_type": "code",
   "execution_count": null,
   "metadata": {
    "collapsed": true
   },
   "outputs": [],
   "source": [
    "## Evaluation accuracy\n",
    "\n",
    "correct_prediction = tf.equal(tf.argmax(logits, 1), tf.argmax(one_hot_y, 1))\n",
    "accuracy_operation = tf.reduce_mean(tf.cast(correct_prediction, tf.float32))\n",
    "\n",
    "def evaluate(X_data, y_data):\n",
    "    num_examples = len(X_data)\n",
    "    total_accuracy = 0\n",
    "    sess = tf.get_default_session()\n",
    "    for offset in range(0, num_examples, batch_size):\n",
    "        batch_x, batch_y = X_data[offset:offset+batch_size], y_data[offset:offset+batch_size]\n",
    "        accuracy = sess.run(accuracy_operation, feed_dict={x: batch_x, y: batch_y, keep_prob: [1,1,1]})\n",
    "        total_accuracy += (accuracy * len(batch_x))\n",
    "    return total_accuracy / num_examples"
   ]
  },
  {
   "cell_type": "code",
   "execution_count": null,
   "metadata": {
    "collapsed": true,
    "scrolled": true
   },
   "outputs": [],
   "source": [
    "# training\n",
    "\n",
    "with tf.Session() as sess:\n",
    "    with tf.device(\"/cpu:0\"):\n",
    "        sess.run(tf.global_variables_initializer())\n",
    "        print('Training ......')\n",
    "        print()\n",
    "        max_acc = 0\n",
    "\n",
    "        for i in range(epoches):\n",
    "            X_train,y_train = shuffle(X_train,y_train) # shuffle the data\n",
    "            for offset in range(0,n_train,batch_size):\n",
    "                end = offset + batch_size\n",
    "                batch_x, batch_y = X_train[offset:end],y_train[offset:end]\n",
    "                sess.run(training_operation,feed_dict = {x:batch_x, y:batch_y, keep_prob: [0.5,0.5,0.5]})\n",
    "\n",
    "            validation_accuracy = evaluate(X_valid, y_valid)\n",
    "            print(\"EPOCH {} ...\".format(i+1))\n",
    "            print(\"Validation Accuracy = {:.3f}\".format(validation_accuracy))\n",
    "\n",
    "            if(max_acc <= validation_accuracy):\n",
    "                max_acc = validation_accuracy\n",
    "                saver.save(sess, './result')\n",
    "                print(\"Model saved with accuracy:\", max_acc)\n",
    "    #             print('Can be better, continue training...')\n",
    "                print()\n",
    "\n",
    "        print(\"maximal accuracy is:\", max_acc)\n",
    "        print(\"End training\")"
   ]
  },
  {
   "cell_type": "code",
   "execution_count": null,
   "metadata": {
    "collapsed": true,
    "scrolled": false
   },
   "outputs": [],
   "source": [
    "### Test the model\n",
    "with tf.Session() as sess:\n",
    "    saver.restore(sess, tf.train.latest_checkpoint('.'))\n",
    "\n",
    "    test_accuracy = evaluate(X_test, y_test)\n",
    "    train_accuracy = evaluate(X_train,y_train)\n",
    "    print(\"Test Accuracy = {:.3f}\".format(test_accuracy))\n",
    "    print(\"Train Accuracy = {:.3f}\".format(train_accuracy))"
   ]
  },
  {
   "cell_type": "code",
   "execution_count": null,
   "metadata": {
    "collapsed": true,
    "scrolled": false
   },
   "outputs": [],
   "source": [
    "### calculate the precision and recall\n",
    "\n",
    "number_test = datacount(y_test)\n",
    "def precion_and_recall(questions,proves):\n",
    "    calcu = [[0,0,0,i] for i in range(43)]\n",
    "    with tf.Session() as sess:\n",
    "        saver.restore(sess, tf.train.latest_checkpoint('.'))\n",
    "        prediction = []\n",
    "        for offset in range(0, len(questions), batch_size):\n",
    "            end = offset + batch_size\n",
    "            x_batch = questions[offset:end]\n",
    "            prediction.extend(sess.run(tf.argmax(logits,1),feed_dict={x:x_batch, keep_prob: [1.,1.,1.]}))\n",
    "            \n",
    "    for i in range(len(prediction)):\n",
    "        if proves[i] == prediction[i]:\n",
    "            calcu[proves[i]][1] += 1 \n",
    "        else:\n",
    "            calcu[proves[i]][0] += 1\n",
    "            calcu[prediction[i]][2] += 1\n",
    "    ret = calcu\n",
    "    for j in range(len(calcu)):\n",
    "        ret[j][0] = calcu[j][1]/(calcu[j][1]+calcu[j][0])  ### precision\n",
    "        ret[j][1] = calcu[j][1]/(calcu[j][1]+calcu[j][2])  ### recall\n",
    "        ret[j][2] = ret[j][0]*ret[j][1]*2/(ret[j][1]+ret[j][0])  ### F\n",
    "    return ret\n",
    "\n",
    "pre_and_re = precion_and_recall(X_test,y_test)\n",
    "pre_and_re.sort(key=lambda x:x[2])\n",
    "\n",
    "print(\"{0:<7}\".format(\"ClassID\"),\"{0:<55}\".format(\"SignName\"),\n",
    "      \"    {0:10}\".format(\"Precision\"),\"  {0:10}\".format(\"Recall\"), \"   {0:10}\".format(\"F\"))\n",
    "for j in range(len(pre_and_re)):\n",
    "    print(\"{0:<7}\".format(pre_and_re[j][3]),'{0:<55}'.format(signames[pre_and_re[j][3]]),\n",
    "      \"{0:10.2f}%\".format(pre_and_re[j][0]*100),\"{0:10.2f}%\".format(pre_and_re[j][1]*100),\n",
    "      \"{0:10.2f}%\".format(pre_and_re[j][2]*100))"
   ]
  },
  {
   "cell_type": "markdown",
   "metadata": {},
   "source": [
    "---\n",
    "\n",
    "## Step 3: Test a Model on New Images\n",
    "\n",
    "To give yourself more insight into how your model is working, download at least five pictures of German traffic signs from the web and use your model to predict the traffic sign type.\n",
    "\n",
    "You may find `signnames.csv` useful as it contains mappings from the class id (integer) to the actual sign name."
   ]
  },
  {
   "cell_type": "markdown",
   "metadata": {},
   "source": [
    "### Load and Output the Images"
   ]
  },
  {
   "cell_type": "code",
   "execution_count": null,
   "metadata": {
    "collapsed": true
   },
   "outputs": [],
   "source": [
    "### Load the images and plot them here.\n",
    "### Feel free to use as many code cells as needed.\n",
    "\n",
    "files = os.listdir('./download_picture')\n",
    "fig = plt.figure(figsize=(20,10))\n",
    "index = 0\n",
    "for file in files:\n",
    "    if '.jpg' in file and '_' not in file:\n",
    "        fig.add_subplot(2,6,index+1)\n",
    "        plt.imshow(mpimg.imread('download_picture/' + file))\n",
    "        title = file\n",
    "        title = title.strip('.jpg')\n",
    "        fig.add_subplot(2,6,index+1).set_title(title)\n",
    "        index += 1"
   ]
  },
  {
   "cell_type": "code",
   "execution_count": null,
   "metadata": {
    "collapsed": true,
    "scrolled": true
   },
   "outputs": [],
   "source": [
    "### resize the pictures and read the pictures\n",
    "files = os.listdir('./download_picture')\n",
    "\n",
    "test = []\n",
    "answers = []\n",
    "\n",
    "for file in files:\n",
    "    if '.jpg' in file and '_' not in file:\n",
    "        answer = file\n",
    "        answer = answer.strip('.jpg')\n",
    "        answer = int(answer)\n",
    "        \n",
    "        fig = plt.figure(figsize=(5,5))\n",
    "        mat1 = mpimg.imread('download_picture/' + file)\n",
    "        mat2 = cv2.resize(mat1,(32,32))\n",
    "        fig.add_subplot(1,1,1).set_xlabel(str(answer)+': ' + signames[answer])\n",
    "        plt.imshow(mat2)\n",
    "        plt.savefig('download_picture/preprocess_'+file)\n",
    "        \n",
    "        answers.append(answer)\n",
    "        test.append(mat2)\n",
    "\n",
    "### preprocess\n",
    "test = np.array(test)\n",
    "#test = grayscale(test)\n",
    "test = (test-128.0)/128.0"
   ]
  },
  {
   "cell_type": "markdown",
   "metadata": {},
   "source": [
    "### Predict the Sign Type for Each Image"
   ]
  },
  {
   "cell_type": "code",
   "execution_count": null,
   "metadata": {
    "collapsed": true,
    "scrolled": false
   },
   "outputs": [],
   "source": [
    "### Run the predictions here and use the model to output the prediction for each image.\n",
    "### Make sure to pre-process the images with the same pre-processing pipeline used earlier.\n",
    "### Feel free to use as many code cells as needed.\n",
    "with tf.Session() as sess:\n",
    "    saver.restore(sess, tf.train.latest_checkpoint('.'))\n",
    "    predict = sess.run(tf.argmax(logits,1),feed_dict={x:test, keep_prob: [1.,1.,1.]})\n",
    "    correct = sess.run(correct_prediction,feed_dict={x:test, y:answers, keep_prob:[1.,1.,1.]})\n",
    "    \n",
    "print(\"{0:<7}\".format(\"Answer\"),\"{0:<7}  \".format(\"Predict\"),\"{0:<7}\".format(\"judge\"))\n",
    "for j in range(len(predict)):\n",
    "    print(\"{0:<7}\".format(answers[j]),'{0:<7}  '.format(predict[j]),str(correct[j]))"
   ]
  },
  {
   "cell_type": "markdown",
   "metadata": {},
   "source": [
    "### Analyze Performance"
   ]
  },
  {
   "cell_type": "code",
   "execution_count": null,
   "metadata": {
    "collapsed": true
   },
   "outputs": [],
   "source": [
    "### Calculate the accuracy for these 6 new images. \n",
    "\n",
    "with tf.Session() as sess:\n",
    "    saver.restore(sess, tf.train.latest_checkpoint('.'))\n",
    "        \n",
    "    accuracy = sess.run(accuracy_operation, feed_dict={x: test, y: answers, keep_prob:[1.,1.,1.]})\n",
    "    print(\"Accuracy = {:.3f}\".format(accuracy)) "
   ]
  },
  {
   "cell_type": "markdown",
   "metadata": {},
   "source": [
    "### Output Top 5 Softmax Probabilities For Each Image Found on the Web"
   ]
  },
  {
   "cell_type": "markdown",
   "metadata": {},
   "source": [
    "For each of the new images, print out the model's softmax probabilities to show the **certainty** of the model's predictions (limit the output to the top 5 probabilities for each image). [`tf.nn.top_k`](https://www.tensorflow.org/versions/r0.12/api_docs/python/nn.html#top_k) could prove helpful here. \n",
    "\n",
    "The example below demonstrates how tf.nn.top_k can be used to find the top k predictions for each image.\n",
    "\n",
    "`tf.nn.top_k` will return the values and indices (class ids) of the top k predictions. So if k=3, for each sign, it'll return the 3 largest probabilities (out of a possible 43) and the correspoding class ids.\n",
    "\n",
    "Take this numpy array as an example. The values in the array represent predictions. The array contains softmax probabilities for five candidate images with six possible classes. `tf.nn.top_k` is used to choose the three classes with the highest probability:\n",
    "\n",
    "```\n",
    "# (5, 6) array\n",
    "a = np.array([[ 0.24879643,  0.07032244,  0.12641572,  0.34763842,  0.07893497,\n",
    "         0.12789202],\n",
    "       [ 0.28086119,  0.27569815,  0.08594638,  0.0178669 ,  0.18063401,\n",
    "         0.15899337],\n",
    "       [ 0.26076848,  0.23664738,  0.08020603,  0.07001922,  0.1134371 ,\n",
    "         0.23892179],\n",
    "       [ 0.11943333,  0.29198961,  0.02605103,  0.26234032,  0.1351348 ,\n",
    "         0.16505091],\n",
    "       [ 0.09561176,  0.34396535,  0.0643941 ,  0.16240774,  0.24206137,\n",
    "         0.09155967]])\n",
    "```\n",
    "\n",
    "Running it through `sess.run(tf.nn.top_k(tf.constant(a), k=3))` produces:\n",
    "\n",
    "```\n",
    "TopKV2(values=array([[ 0.34763842,  0.24879643,  0.12789202],\n",
    "       [ 0.28086119,  0.27569815,  0.18063401],\n",
    "       [ 0.26076848,  0.23892179,  0.23664738],\n",
    "       [ 0.29198961,  0.26234032,  0.16505091],\n",
    "       [ 0.34396535,  0.24206137,  0.16240774]]), indices=array([[3, 0, 5],\n",
    "       [0, 1, 4],\n",
    "       [0, 5, 1],\n",
    "       [1, 3, 5],\n",
    "       [1, 4, 3]], dtype=int32))\n",
    "```\n",
    "\n",
    "Looking just at the first row we get `[ 0.34763842,  0.24879643,  0.12789202]`, you can confirm these are the 3 largest probabilities in `a`. You'll also notice `[3, 0, 5]` are the corresponding indices."
   ]
  },
  {
   "cell_type": "code",
   "execution_count": null,
   "metadata": {
    "collapsed": true,
    "scrolled": true
   },
   "outputs": [],
   "source": [
    "### Print out the top five softmax probabilities for the predictions on the German traffic sign images found on the web. \n",
    "### Feel free to use as many code cells as needed.\n",
    "with tf.Session() as sess:\n",
    "    saver.restore(sess, tf.train.latest_checkpoint('.'))    \n",
    "    for i in range(len(test)):\n",
    "        w = None\n",
    "        w = sess.run(tf.nn.top_k(tf.nn.softmax(logits), k=5),feed_dict={x:[test[i]],keep_prob:[1.,1.,1.]})\n",
    "        print('top 5: ',w)\n",
    "        name = []\n",
    "        for j in range(len(w[1][0])):\n",
    "            name.append(signames[w[1][0][j]])\n",
    "            name[j] = name[j] + ', ID: ' + str(w[1][0][j])\n",
    "        label = range(0,15,3)\n",
    "        plt.figure(figsize=(10,10))\n",
    "        plt.bar(label, w[0][0], width = 3, fc = 'g', edgecolor = 'white', label='validation', lw=1)\n",
    "        plt.xticks(label ,name, rotation=15)\n",
    "        plt.title('Answer: ' + signames[answers[i]] + ', ID: ' + str(answers[i]))\n",
    "        for a,b in zip(label,w[0][0]):  \n",
    "            plt.text(a, b+0.005, '%e' % b, ha='center', va= 'bottom',fontsize=11)\n",
    "        plt.savefig('./download_picture/softmax_' + str(answers[i]) + '.jpg')\n",
    "        plt.show()"
   ]
  },
  {
   "cell_type": "markdown",
   "metadata": {},
   "source": [
    "### Project Writeup\n",
    "\n",
    "Once you have completed the code implementation, document your results in a project writeup using this [template](https://github.com/udacity/CarND-Traffic-Sign-Classifier-Project/blob/master/writeup_template.md) as a guide. The writeup can be in a markdown or pdf file. "
   ]
  },
  {
   "cell_type": "markdown",
   "metadata": {},
   "source": [
    "> **Note**: Once you have completed all of the code implementations and successfully answered each question above, you may finalize your work by exporting the iPython Notebook as an HTML document. You can do this by using the menu above and navigating to  \\n\",\n",
    "    \"**File -> Download as -> HTML (.html)**. Include the finished document along with this notebook as your submission."
   ]
  },
  {
   "cell_type": "markdown",
   "metadata": {},
   "source": [
    "---\n",
    "\n",
    "## Step 4 (Optional): Visualize the Neural Network's State with Test Images\n",
    "\n",
    " This Section is not required to complete but acts as an additional excersise for understaning the output of a neural network's weights. While neural networks can be a great learning device they are often referred to as a black box. We can understand what the weights of a neural network look like better by plotting their feature maps. After successfully training your neural network you can see what it's feature maps look like by plotting the output of the network's weight layers in response to a test stimuli image. From these plotted feature maps, it's possible to see what characteristics of an image the network finds interesting. For a sign, maybe the inner network feature maps react with high activation to the sign's boundary outline or to the contrast in the sign's painted symbol.\n",
    "\n",
    " Provided for you below is the function code that allows you to get the visualization output of any tensorflow weight layer you want. The inputs to the function should be a stimuli image, one used during training or a new one you provided, and then the tensorflow variable name that represents the layer's state during the training process, for instance if you wanted to see what the [LeNet lab's](https://classroom.udacity.com/nanodegrees/nd013/parts/fbf77062-5703-404e-b60c-95b78b2f3f9e/modules/6df7ae49-c61c-4bb2-a23e-6527e69209ec/lessons/601ae704-1035-4287-8b11-e2c2716217ad/concepts/d4aca031-508f-4e0b-b493-e7b706120f81) feature maps looked like for it's second convolutional layer you could enter conv2 as the tf_activation variable.\n",
    "\n",
    "For an example of what feature map outputs look like, check out NVIDIA's results in their paper [End-to-End Deep Learning for Self-Driving Cars](https://devblogs.nvidia.com/parallelforall/deep-learning-self-driving-cars/) in the section Visualization of internal CNN State. NVIDIA was able to show that their network's inner weights had high activations to road boundary lines by comparing feature maps from an image with a clear path to one without. Try experimenting with a similar test to show that your trained network's weights are looking for interesting features, whether it's looking at differences in feature maps from images with or without a sign, or even what feature maps look like in a trained network vs a completely untrained one on the same sign image.\n",
    "\n",
    "<figure>\n",
    " <img src=\"visualize_cnn.png\" width=\"380\" alt=\"Combined Image\" />\n",
    " <figcaption>\n",
    " <p></p> \n",
    " <p style=\"text-align: center;\"> Your output should look something like this (above)</p> \n",
    " </figcaption>\n",
    "</figure>\n",
    " <p></p> \n"
   ]
  },
  {
   "cell_type": "code",
   "execution_count": null,
   "metadata": {
    "collapsed": true
   },
   "outputs": [],
   "source": [
    "### Visualize your network's feature maps here.\n",
    "### Feel free to use as many code cells as needed.\n",
    "\n",
    "# image_input: the test image being fed into the network to produce the feature maps\n",
    "# tf_activation: should be a tf variable name used during your training procedure that represents the calculated state of a specific weight layer\n",
    "# activation_min/max: can be used to view the activation contrast in more detail, by default matplot sets min and max to the actual min and max values of the output\n",
    "# plt_num: used to plot out multiple different weight feature map sets on the same block, just extend the plt number for each new feature map entry\n",
    "\n",
    "def outputFeatureMap(title,image_input, tf_activation, activation_min=-1, activation_max=-1 ,plt_num=1):\n",
    "    # Here make sure to preprocess your image_input in a way your network expects\n",
    "    # with size, normalization, ect if needed\n",
    "    # image_input =\n",
    "    # Note: x should be the same name as your network's tensorflow data placeholder variable\n",
    "    # If you get an error tf_activation is not defined it may be having trouble accessing the variable from inside a function\n",
    "    sess = tf.Session()\n",
    "    saver = tf.train.Saver()\n",
    "    saver.restore(sess,tf.train.latest_checkpoint('.'))\n",
    "    activation = tf_activation.eval(session=sess,feed_dict={x : image_input})\n",
    "    featuremaps = activation.shape[3]\n",
    "    plt.figure(plt_num, figsize=(15,15))\n",
    "    for featuremap in range(featuremaps):\n",
    "        if plt_num == 6:\n",
    "            plt.subplot(2,3, featuremap+1) # sets the number of feature maps to show on each row and column\n",
    "        if plt_num == 16:\n",
    "            plt.subplot(4,4, featuremap+1) # sets the number of feature maps to show on each row and column\n",
    "        plt.title(title + str(featuremap)) # displays the feature map number\n",
    "        if activation_min != -1 & activation_max != -1:\n",
    "            plt.imshow(activation[0,:,:, featuremap], interpolation=\"nearest\", vmin =activation_min, vmax=activation_max, cmap=\"gray\")\n",
    "        elif activation_max != -1:\n",
    "            plt.imshow(activation[0,:,:, featuremap], interpolation=\"nearest\", vmax=activation_max, cmap=\"gray\")\n",
    "        elif activation_min !=-1:\n",
    "            plt.imshow(activation[0,:,:, featuremap], interpolation=\"nearest\", vmin=activation_min, cmap=\"gray\")\n",
    "        else:\n",
    "            plt.imshow(activation[0,:,:, featuremap], interpolation=\"nearest\", cmap=\"gray\")"
   ]
  },
  {
   "cell_type": "code",
   "execution_count": null,
   "metadata": {
    "collapsed": true,
    "scrolled": false
   },
   "outputs": [],
   "source": [
    "\n",
    "with tf.Session() as sess:\n",
    "    saver.restore(sess,tf.train.latest_checkpoint('.'))\n",
    "    for a in range(len(test)):\n",
    "        print(answers[a])\n",
    "        print('layer1')\n",
    "        outputFeatureMap(signames[answers[a]]+' ',[test[a]],layer1,plt_num=6)\n",
    "        plt.savefig('./visualization/'+str(answers[a])+'_layer1'+'.jpg')\n",
    "        plt.show()\n",
    "        print('layer2')\n",
    "        outputFeatureMap(signames[answers[a]]+' ',[test[a]],layer2,plt_num=16)\n",
    "        plt.savefig('./visualization/'+str(answers[a])+'_layer2'+'.jpg')\n",
    "        plt.show()"
   ]
  },
  {
   "cell_type": "code",
   "execution_count": null,
   "metadata": {
    "collapsed": true
   },
   "outputs": [],
   "source": []
  }
 ],
 "metadata": {
  "anaconda-cloud": {},
  "kernelspec": {
   "display_name": "Python [default]",
   "language": "python",
   "name": "python3"
  },
  "language_info": {
   "codemirror_mode": {
    "name": "ipython",
    "version": 3
   },
   "file_extension": ".py",
   "mimetype": "text/x-python",
   "name": "python",
   "nbconvert_exporter": "python",
   "pygments_lexer": "ipython3",
   "version": "3.6.5"
  },
  "widgets": {
   "state": {},
   "version": "1.1.2"
  }
 },
 "nbformat": 4,
 "nbformat_minor": 1
}
